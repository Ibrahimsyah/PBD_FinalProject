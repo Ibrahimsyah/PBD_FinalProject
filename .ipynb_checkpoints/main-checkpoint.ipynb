{
 "cells": [
  {
   "cell_type": "code",
   "execution_count": 1,
   "metadata": {},
   "outputs": [],
   "source": [
    "from hdfs import InsecureClient\n",
    "import pandas as pd\n",
    "import numpy as np\n",
    "import re\n",
    "import seaborn as sns"
   ]
  },
  {
   "cell_type": "markdown",
   "metadata": {},
   "source": [
    "#### Koneksi ke Hadoop"
   ]
  },
  {
   "cell_type": "code",
   "execution_count": 2,
   "metadata": {},
   "outputs": [],
   "source": [
    "client_hdfs = InsecureClient('http://127.0.0.1:9870', user=\"hduser\")"
   ]
  },
  {
   "cell_type": "markdown",
   "metadata": {},
   "source": [
    "#### Collecting data dari data source"
   ]
  },
  {
   "cell_type": "code",
   "execution_count": 3,
   "metadata": {},
   "outputs": [],
   "source": [
    "df = pd.read_csv('https://raw.githubusercontent.com/Ibrahimsyah/PBD_FinalProject/master/weatherHistory.csv')"
   ]
  },
  {
   "cell_type": "code",
   "execution_count": 4,
   "metadata": {
    "scrolled": false
   },
   "outputs": [
    {
     "name": "stdout",
     "output_type": "stream",
     "text": [
      "<class 'pandas.core.frame.DataFrame'>\n",
      "RangeIndex: 96453 entries, 0 to 96452\n",
      "Data columns (total 12 columns):\n",
      " #   Column                    Non-Null Count  Dtype  \n",
      "---  ------                    --------------  -----  \n",
      " 0   Formatted Date            96453 non-null  object \n",
      " 1   Summary                   96453 non-null  object \n",
      " 2   Precip Type               95936 non-null  object \n",
      " 3   Temperature (C)           96453 non-null  float64\n",
      " 4   Apparent Temperature (C)  96453 non-null  float64\n",
      " 5   Humidity                  96453 non-null  float64\n",
      " 6   Wind Speed (km/h)         96453 non-null  float64\n",
      " 7   Wind Bearing (degrees)    96453 non-null  float64\n",
      " 8   Visibility (km)           96453 non-null  float64\n",
      " 9   Loud Cover                96453 non-null  float64\n",
      " 10  Pressure (millibars)      96453 non-null  float64\n",
      " 11  Daily Summary             96453 non-null  object \n",
      "dtypes: float64(8), object(4)\n",
      "memory usage: 8.8+ MB\n",
      "None\n"
     ]
    }
   ],
   "source": [
    "print(df.info())"
   ]
  },
  {
   "cell_type": "code",
   "execution_count": 5,
   "metadata": {},
   "outputs": [],
   "source": [
    "# Writing Dataframe to hdfs\n",
    "with client_hdfs.write('/finalProject/input/weather.csv', encoding = 'utf-8', overwrite=True) as writer:\n",
    "    df.to_csv(writer)"
   ]
  },
  {
   "cell_type": "markdown",
   "metadata": {},
   "source": [
    "#### Mengambil data dari Hadoop"
   ]
  },
  {
   "cell_type": "code",
   "execution_count": 6,
   "metadata": {},
   "outputs": [],
   "source": [
    "with client_hdfs.read('/finalProject/input/weather.csv', encoding = 'utf-8') as reader:\n",
    "    df = pd.read_csv(reader,index_col=0)"
   ]
  },
  {
   "cell_type": "markdown",
   "metadata": {},
   "source": [
    "#### Preprocessing Data"
   ]
  },
  {
   "cell_type": "code",
   "execution_count": 7,
   "metadata": {},
   "outputs": [
    {
     "data": {
      "text/html": [
       "<div>\n",
       "<style scoped>\n",
       "    .dataframe tbody tr th:only-of-type {\n",
       "        vertical-align: middle;\n",
       "    }\n",
       "\n",
       "    .dataframe tbody tr th {\n",
       "        vertical-align: top;\n",
       "    }\n",
       "\n",
       "    .dataframe thead th {\n",
       "        text-align: right;\n",
       "    }\n",
       "</style>\n",
       "<table border=\"1\" class=\"dataframe\">\n",
       "  <thead>\n",
       "    <tr style=\"text-align: right;\">\n",
       "      <th></th>\n",
       "      <th>FormattedDate</th>\n",
       "      <th>Summary</th>\n",
       "      <th>PrecipType</th>\n",
       "      <th>Temperature</th>\n",
       "      <th>ApparentTemperature</th>\n",
       "      <th>Humidity</th>\n",
       "      <th>WindSpeed</th>\n",
       "      <th>WindBearing</th>\n",
       "      <th>Visibility</th>\n",
       "      <th>LoudCover</th>\n",
       "      <th>Pressure</th>\n",
       "      <th>DailySummary</th>\n",
       "    </tr>\n",
       "  </thead>\n",
       "  <tbody>\n",
       "    <tr>\n",
       "      <th>0</th>\n",
       "      <td>2006-04-01 00:00:00.000 +0200</td>\n",
       "      <td>Partly Cloudy</td>\n",
       "      <td>rain</td>\n",
       "      <td>9.472222</td>\n",
       "      <td>7.388889</td>\n",
       "      <td>0.89</td>\n",
       "      <td>14.1197</td>\n",
       "      <td>251.0</td>\n",
       "      <td>15.8263</td>\n",
       "      <td>0.0</td>\n",
       "      <td>1015.13</td>\n",
       "      <td>Partly cloudy throughout the day.</td>\n",
       "    </tr>\n",
       "    <tr>\n",
       "      <th>1</th>\n",
       "      <td>2006-04-01 01:00:00.000 +0200</td>\n",
       "      <td>Partly Cloudy</td>\n",
       "      <td>rain</td>\n",
       "      <td>9.355556</td>\n",
       "      <td>7.227778</td>\n",
       "      <td>0.86</td>\n",
       "      <td>14.2646</td>\n",
       "      <td>259.0</td>\n",
       "      <td>15.8263</td>\n",
       "      <td>0.0</td>\n",
       "      <td>1015.63</td>\n",
       "      <td>Partly cloudy throughout the day.</td>\n",
       "    </tr>\n",
       "    <tr>\n",
       "      <th>2</th>\n",
       "      <td>2006-04-01 02:00:00.000 +0200</td>\n",
       "      <td>Mostly Cloudy</td>\n",
       "      <td>rain</td>\n",
       "      <td>9.377778</td>\n",
       "      <td>9.377778</td>\n",
       "      <td>0.89</td>\n",
       "      <td>3.9284</td>\n",
       "      <td>204.0</td>\n",
       "      <td>14.9569</td>\n",
       "      <td>0.0</td>\n",
       "      <td>1015.94</td>\n",
       "      <td>Partly cloudy throughout the day.</td>\n",
       "    </tr>\n",
       "    <tr>\n",
       "      <th>3</th>\n",
       "      <td>2006-04-01 03:00:00.000 +0200</td>\n",
       "      <td>Partly Cloudy</td>\n",
       "      <td>rain</td>\n",
       "      <td>8.288889</td>\n",
       "      <td>5.944444</td>\n",
       "      <td>0.83</td>\n",
       "      <td>14.1036</td>\n",
       "      <td>269.0</td>\n",
       "      <td>15.8263</td>\n",
       "      <td>0.0</td>\n",
       "      <td>1016.41</td>\n",
       "      <td>Partly cloudy throughout the day.</td>\n",
       "    </tr>\n",
       "    <tr>\n",
       "      <th>4</th>\n",
       "      <td>2006-04-01 04:00:00.000 +0200</td>\n",
       "      <td>Mostly Cloudy</td>\n",
       "      <td>rain</td>\n",
       "      <td>8.755556</td>\n",
       "      <td>6.977778</td>\n",
       "      <td>0.83</td>\n",
       "      <td>11.0446</td>\n",
       "      <td>259.0</td>\n",
       "      <td>15.8263</td>\n",
       "      <td>0.0</td>\n",
       "      <td>1016.51</td>\n",
       "      <td>Partly cloudy throughout the day.</td>\n",
       "    </tr>\n",
       "  </tbody>\n",
       "</table>\n",
       "</div>"
      ],
      "text/plain": [
       "                   FormattedDate        Summary PrecipType  Temperature  \\\n",
       "0  2006-04-01 00:00:00.000 +0200  Partly Cloudy       rain     9.472222   \n",
       "1  2006-04-01 01:00:00.000 +0200  Partly Cloudy       rain     9.355556   \n",
       "2  2006-04-01 02:00:00.000 +0200  Mostly Cloudy       rain     9.377778   \n",
       "3  2006-04-01 03:00:00.000 +0200  Partly Cloudy       rain     8.288889   \n",
       "4  2006-04-01 04:00:00.000 +0200  Mostly Cloudy       rain     8.755556   \n",
       "\n",
       "   ApparentTemperature  Humidity  WindSpeed  WindBearing  Visibility  \\\n",
       "0             7.388889      0.89    14.1197        251.0     15.8263   \n",
       "1             7.227778      0.86    14.2646        259.0     15.8263   \n",
       "2             9.377778      0.89     3.9284        204.0     14.9569   \n",
       "3             5.944444      0.83    14.1036        269.0     15.8263   \n",
       "4             6.977778      0.83    11.0446        259.0     15.8263   \n",
       "\n",
       "   LoudCover  Pressure                       DailySummary  \n",
       "0        0.0   1015.13  Partly cloudy throughout the day.  \n",
       "1        0.0   1015.63  Partly cloudy throughout the day.  \n",
       "2        0.0   1015.94  Partly cloudy throughout the day.  \n",
       "3        0.0   1016.41  Partly cloudy throughout the day.  \n",
       "4        0.0   1016.51  Partly cloudy throughout the day.  "
      ]
     },
     "execution_count": 7,
     "metadata": {},
     "output_type": "execute_result"
    }
   ],
   "source": [
    "# Menghapus spasi dan tanda kurung\n",
    "\n",
    "# Define mapper \n",
    "def mapper(x):\n",
    "    x = x.replace(' ', '')\n",
    "    x = re.sub(r'\\([^()]*\\)', '', x)\n",
    "    return x\n",
    "\n",
    "# Map setiap nama kolom untuk menghilangkan spasi dan kurung\n",
    "newColumns = df.columns.map(mapper)\n",
    "df.columns = newColumns\n",
    "df.head(5)"
   ]
  },
  {
   "cell_type": "code",
   "execution_count": 8,
   "metadata": {
    "scrolled": true
   },
   "outputs": [
    {
     "name": "stdout",
     "output_type": "stream",
     "text": [
      "<class 'pandas.core.frame.DataFrame'>\n",
      "Int64Index: 96453 entries, 0 to 96452\n",
      "Data columns (total 12 columns):\n",
      " #   Column               Non-Null Count  Dtype  \n",
      "---  ------               --------------  -----  \n",
      " 0   FormattedDate        96453 non-null  object \n",
      " 1   Summary              96453 non-null  object \n",
      " 2   PrecipType           95936 non-null  object \n",
      " 3   Temperature          96453 non-null  float64\n",
      " 4   ApparentTemperature  96453 non-null  float64\n",
      " 5   Humidity             96453 non-null  float64\n",
      " 6   WindSpeed            96453 non-null  float64\n",
      " 7   WindBearing          96453 non-null  float64\n",
      " 8   Visibility           96453 non-null  float64\n",
      " 9   LoudCover            96453 non-null  float64\n",
      " 10  Pressure             96453 non-null  float64\n",
      " 11  DailySummary         96453 non-null  object \n",
      "dtypes: float64(8), object(4)\n",
      "memory usage: 9.6+ MB\n"
     ]
    }
   ],
   "source": [
    "df.info()"
   ]
  },
  {
   "cell_type": "markdown",
   "metadata": {},
   "source": [
    "#### Generate DataFrame baru berisi data rata rata temperature, Humidity, WindSpeed, dan Pressure"
   ]
  },
  {
   "cell_type": "code",
   "execution_count": 10,
   "metadata": {},
   "outputs": [],
   "source": [
    "dateDf = df.copy()\n",
    "dateDf.FormattedDate = dateDf.FormattedDate.map(lambda x: x.split(' ')[0])\n",
    "\n",
    "# Mencari Nilai Unik tiap Tanggal\n",
    "dates = np.unique(dateDf.FormattedDate)\n",
    "\n",
    "means = []\n",
    "\n",
    "# Loop setiap tanggal unik\n",
    "for date in dates:\n",
    "    date1 = dateDf.loc[dateDf['FormattedDate'] == date]\n",
    "    tempMean = np.mean(date1['Temperature'].values)\n",
    "    humidMean = np.mean(date1['Humidity'].values)\n",
    "    windSpeedMean = np.mean(date1['WindSpeed'].values)\n",
    "    pressureMean = np.mean(date1['Pressure'].values)\n",
    "    mean = {\n",
    "        'date': date, \n",
    "        'temperatureMean': tempMean,\n",
    "        'humidityMean': humidMean,\n",
    "        'windSpeedMean': windSpeedMean,\n",
    "        'pressureMean': pressureMean\n",
    "    }\n",
    "    means.append(mean)"
   ]
  },
  {
   "cell_type": "code",
   "execution_count": 11,
   "metadata": {},
   "outputs": [
    {
     "name": "stdout",
     "output_type": "stream",
     "text": [
      "<class 'pandas.core.frame.DataFrame'>\n",
      "RangeIndex: 4018 entries, 0 to 4017\n",
      "Data columns (total 5 columns):\n",
      " #   Column           Non-Null Count  Dtype  \n",
      "---  ------           --------------  -----  \n",
      " 0   date             4018 non-null   object \n",
      " 1   temperatureMean  4018 non-null   float64\n",
      " 2   humidityMean     4018 non-null   float64\n",
      " 3   windSpeedMean    4018 non-null   float64\n",
      " 4   pressureMean     4018 non-null   float64\n",
      "dtypes: float64(4), object(1)\n",
      "memory usage: 157.1+ KB\n",
      "None\n"
     ]
    },
    {
     "data": {
      "text/html": [
       "<div>\n",
       "<style scoped>\n",
       "    .dataframe tbody tr th:only-of-type {\n",
       "        vertical-align: middle;\n",
       "    }\n",
       "\n",
       "    .dataframe tbody tr th {\n",
       "        vertical-align: top;\n",
       "    }\n",
       "\n",
       "    .dataframe thead th {\n",
       "        text-align: right;\n",
       "    }\n",
       "</style>\n",
       "<table border=\"1\" class=\"dataframe\">\n",
       "  <thead>\n",
       "    <tr style=\"text-align: right;\">\n",
       "      <th></th>\n",
       "      <th>date</th>\n",
       "      <th>temperatureMean</th>\n",
       "      <th>humidityMean</th>\n",
       "      <th>windSpeedMean</th>\n",
       "      <th>pressureMean</th>\n",
       "    </tr>\n",
       "  </thead>\n",
       "  <tbody>\n",
       "    <tr>\n",
       "      <th>0</th>\n",
       "      <td>2006-01-01</td>\n",
       "      <td>3.873148</td>\n",
       "      <td>0.818333</td>\n",
       "      <td>21.372750</td>\n",
       "      <td>1012.279167</td>\n",
       "    </tr>\n",
       "    <tr>\n",
       "      <th>1</th>\n",
       "      <td>2006-01-02</td>\n",
       "      <td>5.418519</td>\n",
       "      <td>0.844583</td>\n",
       "      <td>17.551683</td>\n",
       "      <td>1010.131667</td>\n",
       "    </tr>\n",
       "    <tr>\n",
       "      <th>2</th>\n",
       "      <td>2006-01-03</td>\n",
       "      <td>2.319444</td>\n",
       "      <td>0.898333</td>\n",
       "      <td>8.417617</td>\n",
       "      <td>1020.805000</td>\n",
       "    </tr>\n",
       "    <tr>\n",
       "      <th>3</th>\n",
       "      <td>2006-01-04</td>\n",
       "      <td>2.274074</td>\n",
       "      <td>0.905417</td>\n",
       "      <td>11.579925</td>\n",
       "      <td>981.826667</td>\n",
       "    </tr>\n",
       "    <tr>\n",
       "      <th>4</th>\n",
       "      <td>2006-01-05</td>\n",
       "      <td>2.698148</td>\n",
       "      <td>0.948333</td>\n",
       "      <td>9.515100</td>\n",
       "      <td>935.988333</td>\n",
       "    </tr>\n",
       "  </tbody>\n",
       "</table>\n",
       "</div>"
      ],
      "text/plain": [
       "         date  temperatureMean  humidityMean  windSpeedMean  pressureMean\n",
       "0  2006-01-01         3.873148      0.818333      21.372750   1012.279167\n",
       "1  2006-01-02         5.418519      0.844583      17.551683   1010.131667\n",
       "2  2006-01-03         2.319444      0.898333       8.417617   1020.805000\n",
       "3  2006-01-04         2.274074      0.905417      11.579925    981.826667\n",
       "4  2006-01-05         2.698148      0.948333       9.515100    935.988333"
      ]
     },
     "execution_count": 11,
     "metadata": {},
     "output_type": "execute_result"
    }
   ],
   "source": [
    "meanDf = pd.DataFrame(means)\n",
    "print(meanDf.info())\n",
    "meanDf.head(5)"
   ]
  },
  {
   "cell_type": "code",
   "execution_count": 12,
   "metadata": {},
   "outputs": [
    {
     "name": "stdout",
     "output_type": "stream",
     "text": [
      "<class 'pandas.core.frame.DataFrame'>\n",
      "RangeIndex: 4018 entries, 0 to 4017\n",
      "Data columns (total 5 columns):\n",
      " #   Column           Non-Null Count  Dtype         \n",
      "---  ------           --------------  -----         \n",
      " 0   date             4018 non-null   datetime64[ns]\n",
      " 1   temperatureMean  4018 non-null   float64       \n",
      " 2   humidityMean     4018 non-null   float64       \n",
      " 3   windSpeedMean    4018 non-null   float64       \n",
      " 4   pressureMean     4018 non-null   float64       \n",
      "dtypes: datetime64[ns](1), float64(4)\n",
      "memory usage: 157.1 KB\n"
     ]
    }
   ],
   "source": [
    "# Casting tipe data date dari object ke datetime\n",
    "meanDf['date'] = pd.to_datetime(meanDf['date'])\n",
    "meanDf.info()"
   ]
  },
  {
   "cell_type": "markdown",
   "metadata": {},
   "source": [
    "#### Menyimpan data rata rata kedalam hadoop dengan path /finalProject/output/result.csv"
   ]
  },
  {
   "cell_type": "code",
   "execution_count": 13,
   "metadata": {},
   "outputs": [],
   "source": [
    "with client_hdfs.write('/finalProject/output/result.csv', encoding = 'utf-8', overwrite=True) as writer:\n",
    "    meanDf.to_csv(writer)"
   ]
  }
 ],
 "metadata": {
  "kernelspec": {
   "display_name": "Python 3",
   "language": "python",
   "name": "python3"
  },
  "language_info": {
   "codemirror_mode": {
    "name": "ipython",
    "version": 3
   },
   "file_extension": ".py",
   "mimetype": "text/x-python",
   "name": "python",
   "nbconvert_exporter": "python",
   "pygments_lexer": "ipython3",
   "version": "3.8.3"
  }
 },
 "nbformat": 4,
 "nbformat_minor": 4
}
